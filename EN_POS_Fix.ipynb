{
 "cells": [
  {
   "cell_type": "code",
   "execution_count": 32,
   "id": "66d2df46-0aa9-44df-bf35-f6de912a6235",
   "metadata": {},
   "outputs": [],
   "source": [
    "import spacy\n",
    "from spacy.language import Language\n",
    "nlp = spacy.load(\"en_core_web_md\")"
   ]
  },
  {
   "cell_type": "markdown",
   "id": "c26fa598-8907-4142-9288-23ec841475de",
   "metadata": {},
   "source": [
    "# Nearest root"
   ]
  },
  {
   "cell_type": "code",
   "execution_count": 66,
   "id": "ac1e4f1a-fac4-4b61-a75a-47d27b72bcb2",
   "metadata": {},
   "outputs": [],
   "source": [
    "def closest_to_root(query, candidates):\n",
    "    doc = nlp(query)\n",
    "\n",
    "    def distance_from_root(token):\n",
    "        dist = 0\n",
    "        while token.head != token:  # root's head is itself\n",
    "            token = token.head\n",
    "            dist += 1\n",
    "        return dist\n",
    "\n",
    "    results = []\n",
    "    for phrase in candidates:\n",
    "        start = doc.text.lower().find(phrase.lower())\n",
    "        if start == -1:\n",
    "            continue\n",
    "        span = doc.char_span(start, start + len(phrase), alignment_mode=\"expand\")\n",
    "        if not span:\n",
    "            continue\n",
    "        dist = distance_from_root(span.root)\n",
    "        results.append((phrase, dist))\n",
    "\n",
    "    if not results:\n",
    "        return None  # nothing matched\n",
    "    return min(results, key=lambda x: x[1])  # lowest distance"
   ]
  },
  {
   "cell_type": "code",
   "execution_count": 70,
   "id": "fad4e70c-3974-4dde-98f9-813ff06c3d0f",
   "metadata": {},
   "outputs": [
    {
     "name": "stdout",
     "output_type": "stream",
     "text": [
      "('s24 phone', 1)\n"
     ]
    }
   ],
   "source": [
    "# Example\n",
    "query = \"show me s24 phone with good ram for best gaming\"\n",
    "candidates = [\"s24 phone\", \"ram\", \"gaming\"]\n",
    "\n",
    "print(closest_to_root(query, candidates))"
   ]
  },
  {
   "cell_type": "markdown",
   "id": "5455fc02-7930-48ed-913c-cdc24d33118e",
   "metadata": {},
   "source": [
    "# Override"
   ]
  },
  {
   "cell_type": "code",
   "execution_count": 62,
   "id": "051ba3a9-5862-41de-ad6b-23046f104909",
   "metadata": {},
   "outputs": [
    {
     "name": "stdout",
     "output_type": "stream",
     "text": [
      "best       POS=ADJ  DEP=amod       HEAD=watch\n",
      "watch      POS=NOUN DEP=ROOT       HEAD=watch\n",
      "deals      POS=NOUN DEP=dobj       HEAD=watch\n",
      "and        POS=CCONJ DEP=cc         HEAD=deals\n",
      "top        POS=ADJ  DEP=amod       HEAD=phones\n",
      "phones     POS=NOUN DEP=conj       HEAD=deals\n"
     ]
    }
   ],
   "source": [
    "import spacy\n",
    "\n",
    "nlp = spacy.load(\"en_core_web_sm\")\n",
    "\n",
    "# Ensure attribute ruler is in the pipeline and runs before the parser\n",
    "if \"attribute_ruler\" in nlp.pipe_names:\n",
    "    ruler = nlp.get_pipe(\"attribute_ruler\")\n",
    "else:\n",
    "    # Put it before the parser so the parser uses your POS overrides\n",
    "    if \"parser\" in nlp.pipe_names:\n",
    "        ruler = nlp.add_pipe(\"attribute_ruler\", before=\"parser\")\n",
    "    else:\n",
    "        ruler = nlp.add_pipe(\"attribute_ruler\", first=True)\n",
    "\n",
    "# Your POS-only overrides\n",
    "overrides = {\n",
    "    \"watch\": \"NOUN\",\n",
    "    \"top\": \"ADJ\",\n",
    "    # add more...\n",
    "}\n",
    "\n",
    "# Register rules (one per word)\n",
    "for word, pos in overrides.items():\n",
    "    # single-token pattern → [[{...}]]  (list of alternative sequences)\n",
    "    ruler.add([[{\"LOWER\": word}]], {\"POS\": pos})\n",
    "\n",
    "# Test\n",
    "doc = nlp(\"best watch deals and top phones\")\n",
    "for t in doc:\n",
    "    print(f\"{t.text:10} POS={t.pos_:4} DEP={t.dep_:10} HEAD={t.head.text}\")\n"
   ]
  },
  {
   "cell_type": "code",
   "execution_count": null,
   "id": "98ee6c57-97e8-48da-a3cb-a1fbab6a315b",
   "metadata": {},
   "outputs": [],
   "source": []
  }
 ],
 "metadata": {
  "kernelspec": {
   "display_name": "Python 3 (ipykernel)",
   "language": "python",
   "name": "python3"
  },
  "language_info": {
   "codemirror_mode": {
    "name": "ipython",
    "version": 3
   },
   "file_extension": ".py",
   "mimetype": "text/x-python",
   "name": "python",
   "nbconvert_exporter": "python",
   "pygments_lexer": "ipython3",
   "version": "3.12.3"
  }
 },
 "nbformat": 4,
 "nbformat_minor": 5
}
