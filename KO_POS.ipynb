{
 "cells": [
  {
   "cell_type": "markdown",
   "id": "c1b1513d-a8dc-4a08-9513-adb4bbc66ce6",
   "metadata": {},
   "source": [
    "# Final KO POS"
   ]
  },
  {
   "cell_type": "code",
   "execution_count": 6,
   "id": "de88fe88-332d-47f4-a0e0-2a10136b13de",
   "metadata": {},
   "outputs": [],
   "source": [
    "import spacy\n",
    "from spacy import displacy\n",
    "\n",
    "# Load Korean model\n",
    "nlp = spacy.load(\"ko_core_news_lg\")"
   ]
  },
  {
   "cell_type": "code",
   "execution_count": 8,
   "id": "2ff063c8-4cb4-4bf7-bbce-9db891749b76",
   "metadata": {},
   "outputs": [],
   "source": [
    "def is_hangul(s: str) -> bool:\n",
    "    return all('\\uac00' <= ch <= '\\ud7a3' for ch in s)\n",
    "\n",
    "def is_target_noun_token(token):\n",
    "    \"\"\"Check if token should be considered as a target noun candidate.\"\"\"\n",
    "    return (\n",
    "        token.pos_ in (\"NOUN\", \"PROPN\", \"X\")\n",
    "        or (token.is_alpha and not is_hangul(token.text))\n",
    "    )\n",
    "\n",
    "def extract_product_phrases_info(query: str, target_phrases_list):\n",
    "    doc = nlp(query)\n",
    "    results = {}\n",
    "\n",
    "    modifier_labels = {\"amod\", \"nmod\", \"compound\", \"det\", \"acl\"}\n",
    "\n",
    "    for target_phrase in target_phrases_list:\n",
    "        target_tokens = target_phrase.split()\n",
    "        adjectives_all = []\n",
    "        adps_all = []\n",
    "        is_main_product = False\n",
    "\n",
    "        for token in doc:\n",
    "            if token.text in target_tokens:\n",
    "                # Collect adjectives\n",
    "                adjectives = [child.text for child in token.children if child.dep_ in modifier_labels or child.pos_ in (\"ADJ\", \"VERB\")]\n",
    "                if not adjectives and token.i > 0:\n",
    "                    left = doc[token.i - 1]\n",
    "                    if left.pos_ in (\"ADJ\", \"VERB\"):\n",
    "                        adjectives.append(left.text)\n",
    "                adjectives_all.extend(adjectives)\n",
    "\n",
    "                # Collect ADPs / case markers\n",
    "                adps = [child.text for child in token.children if child.dep_ == \"case\" or child.pos_ == \"ADP\"]\n",
    "                adps_all.extend(adps)\n",
    "\n",
    "                # Main product flag\n",
    "                if token.dep_ == \"ROOT\" or token.head.dep_ == \"ROOT\" or token.dep_ in (\"nsubj\", \"dep\"):\n",
    "                    is_main_product = True\n",
    "\n",
    "        results[target_phrase] = {\n",
    "            \"adjectives\": list(set(adjectives_all)),\n",
    "            \"adp\": list(set(adps_all)),\n",
    "            \"is_main_product\": is_main_product\n",
    "        }\n",
    "\n",
    "    return results"
   ]
  },
  {
   "cell_type": "code",
   "execution_count": 10,
   "id": "934652cd-7f8d-4ee0-9566-8ee425db68d8",
   "metadata": {},
   "outputs": [
    {
     "name": "stdout",
     "output_type": "stream",
     "text": [
      "Query: 저렴한 s24 폰 보여주세요\n",
      "Target tokens: ['s24', '폰']\n",
      "Results:\n",
      "{\n",
      "    \"s24\": {\n",
      "        \"adjectives\": [\n",
      "            \"저렴한\"\n",
      "        ],\n",
      "        \"adp\": [],\n",
      "        \"is_main_product\": false\n",
      "    },\n",
      "    \"폰\": {\n",
      "        \"adjectives\": [\n",
      "            \"저렴한\",\n",
      "            \"s24\"\n",
      "        ],\n",
      "        \"adp\": [],\n",
      "        \"is_main_product\": true\n",
      "    }\n",
      "}\n"
     ]
    }
   ],
   "source": [
    "query = \"저렴한 s24 폰 보여주세요\"\n",
    "target_phrases = [\"s24\",\"폰\"]\n",
    "\n",
    "results = extract_product_phrases_info(query, target_phrases)\n",
    "\n",
    "print(f\"Query: {query}\")\n",
    "print(f\"Target tokens: {target_phrases}\")\n",
    "print(\"Results:\")\n",
    "print(json.dumps(results, ensure_ascii=False, indent=4))"
   ]
  },
  {
   "cell_type": "markdown",
   "id": "59d8f761-b90c-4f6b-929a-22eebac3ac58",
   "metadata": {},
   "source": [
    "# POS Tagger"
   ]
  },
  {
   "cell_type": "code",
   "execution_count": 13,
   "id": "d258f1ac-d330-429d-9627-641f4af0ab93",
   "metadata": {},
   "outputs": [
    {
     "name": "stdout",
     "output_type": "stream",
     "text": [
      "저렴한    | POS=VERB  | DEP=amod       | HEAD=폰\n",
      "s24    | POS=X     | DEP=compound   | HEAD=폰\n",
      "폰      | POS=NOUN  | DEP=dep        | HEAD=보여주세요\n",
      "보여주세요  | POS=AUX   | DEP=ROOT       | HEAD=보여주세요\n"
     ]
    }
   ],
   "source": [
    "sentence = \"저렴한 s24 폰 보여주세요\"\n",
    "doc = nlp(sentence)\n",
    "\n",
    "# Print tokens with POS/dep info (for debugging)\n",
    "for token in doc:\n",
    "    print(f\"{token.text:6} | POS={token.pos_:5} | DEP={token.dep_:10} | HEAD={token.head.text}\")"
   ]
  },
  {
   "cell_type": "markdown",
   "id": "9aba0924-afd6-4056-8715-ac4b981e4bc6",
   "metadata": {},
   "source": [
    "# Dep Tree"
   ]
  },
  {
   "cell_type": "code",
   "execution_count": 16,
   "id": "8f72ec33-c3a1-4693-ac12-1c0813dc4a9a",
   "metadata": {},
   "outputs": [
    {
     "data": {
      "text/html": [
       "<span class=\"tex2jax_ignore\"><svg xmlns=\"http://www.w3.org/2000/svg\" xmlns:xlink=\"http://www.w3.org/1999/xlink\" xml:lang=\"ko\" id=\"b1c8cb5947554ea6828fb04fff5636fe-0\" class=\"displacy\" width=\"650\" height=\"287.0\" direction=\"ltr\" style=\"max-width: none; height: 287.0px; color: #000000; background: #ffffff; font-family: Arial; direction: ltr\">\n",
       "<text class=\"displacy-token\" fill=\"currentColor\" text-anchor=\"middle\" y=\"197.0\">\n",
       "    <tspan class=\"displacy-word\" fill=\"currentColor\" x=\"50\">저렴한</tspan>\n",
       "    <tspan class=\"displacy-tag\" dy=\"2em\" fill=\"currentColor\" x=\"50\">VERB</tspan>\n",
       "</text>\n",
       "\n",
       "<text class=\"displacy-token\" fill=\"currentColor\" text-anchor=\"middle\" y=\"197.0\">\n",
       "    <tspan class=\"displacy-word\" fill=\"currentColor\" x=\"200\">s24</tspan>\n",
       "    <tspan class=\"displacy-tag\" dy=\"2em\" fill=\"currentColor\" x=\"200\">X</tspan>\n",
       "</text>\n",
       "\n",
       "<text class=\"displacy-token\" fill=\"currentColor\" text-anchor=\"middle\" y=\"197.0\">\n",
       "    <tspan class=\"displacy-word\" fill=\"currentColor\" x=\"350\">폰</tspan>\n",
       "    <tspan class=\"displacy-tag\" dy=\"2em\" fill=\"currentColor\" x=\"350\">NOUN</tspan>\n",
       "</text>\n",
       "\n",
       "<text class=\"displacy-token\" fill=\"currentColor\" text-anchor=\"middle\" y=\"197.0\">\n",
       "    <tspan class=\"displacy-word\" fill=\"currentColor\" x=\"500\">보여주세요</tspan>\n",
       "    <tspan class=\"displacy-tag\" dy=\"2em\" fill=\"currentColor\" x=\"500\">AUX</tspan>\n",
       "</text>\n",
       "\n",
       "<g class=\"displacy-arrow\">\n",
       "    <path class=\"displacy-arc\" id=\"arrow-b1c8cb5947554ea6828fb04fff5636fe-0-0\" stroke-width=\"2px\" d=\"M62,152.0 62,102.0 350.0,102.0 350.0,152.0\" fill=\"none\" stroke=\"currentColor\"/>\n",
       "    <text dy=\"1.25em\" style=\"font-size: 0.8em; letter-spacing: 1px\">\n",
       "        <textPath xlink:href=\"#arrow-b1c8cb5947554ea6828fb04fff5636fe-0-0\" class=\"displacy-label\" startOffset=\"50%\" side=\"left\" fill=\"currentColor\" text-anchor=\"middle\">amod</textPath>\n",
       "    </text>\n",
       "    <path class=\"displacy-arrowhead\" d=\"M62,154.0 L58,146.0 66,146.0\" fill=\"currentColor\"/>\n",
       "</g>\n",
       "\n",
       "<g class=\"displacy-arrow\">\n",
       "    <path class=\"displacy-arc\" id=\"arrow-b1c8cb5947554ea6828fb04fff5636fe-0-1\" stroke-width=\"2px\" d=\"M212,152.0 212,127.0 347.0,127.0 347.0,152.0\" fill=\"none\" stroke=\"currentColor\"/>\n",
       "    <text dy=\"1.25em\" style=\"font-size: 0.8em; letter-spacing: 1px\">\n",
       "        <textPath xlink:href=\"#arrow-b1c8cb5947554ea6828fb04fff5636fe-0-1\" class=\"displacy-label\" startOffset=\"50%\" side=\"left\" fill=\"currentColor\" text-anchor=\"middle\">compound</textPath>\n",
       "    </text>\n",
       "    <path class=\"displacy-arrowhead\" d=\"M212,154.0 L208,146.0 216,146.0\" fill=\"currentColor\"/>\n",
       "</g>\n",
       "\n",
       "<g class=\"displacy-arrow\">\n",
       "    <path class=\"displacy-arc\" id=\"arrow-b1c8cb5947554ea6828fb04fff5636fe-0-2\" stroke-width=\"2px\" d=\"M362,152.0 362,127.0 497.0,127.0 497.0,152.0\" fill=\"none\" stroke=\"currentColor\"/>\n",
       "    <text dy=\"1.25em\" style=\"font-size: 0.8em; letter-spacing: 1px\">\n",
       "        <textPath xlink:href=\"#arrow-b1c8cb5947554ea6828fb04fff5636fe-0-2\" class=\"displacy-label\" startOffset=\"50%\" side=\"left\" fill=\"currentColor\" text-anchor=\"middle\">dep</textPath>\n",
       "    </text>\n",
       "    <path class=\"displacy-arrowhead\" d=\"M362,154.0 L358,146.0 366,146.0\" fill=\"currentColor\"/>\n",
       "</g>\n",
       "</svg></span>"
      ],
      "text/plain": [
       "<IPython.core.display.HTML object>"
      ]
     },
     "metadata": {},
     "output_type": "display_data"
    }
   ],
   "source": [
    "doc = nlp(\"저렴한 s24 폰 보여주세요\")\n",
    "displacy.render(doc, style=\"dep\", jupyter=True, options={\"compact\": True})"
   ]
  },
  {
   "cell_type": "code",
   "execution_count": null,
   "id": "a3fad4b4-d3e1-4425-89e3-69d8e16731c0",
   "metadata": {},
   "outputs": [],
   "source": []
  }
 ],
 "metadata": {
  "kernelspec": {
   "display_name": "Python 3 (ipykernel)",
   "language": "python",
   "name": "python3"
  },
  "language_info": {
   "codemirror_mode": {
    "name": "ipython",
    "version": 3
   },
   "file_extension": ".py",
   "mimetype": "text/x-python",
   "name": "python",
   "nbconvert_exporter": "python",
   "pygments_lexer": "ipython3",
   "version": "3.12.3"
  }
 },
 "nbformat": 4,
 "nbformat_minor": 5
}
