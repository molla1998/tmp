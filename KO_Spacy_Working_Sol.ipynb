{
 "cells": [
  {
   "cell_type": "code",
   "execution_count": 1,
   "id": "9a2970ac-c223-42cb-83f7-f56b827ccb52",
   "metadata": {},
   "outputs": [],
   "source": [
    "import spacy\n",
    "from tabulate import tabulate\n",
    "import time\n",
    "import spacy\n",
    "import re\n",
    "from spacy import displacy\n",
    "\n",
    "\n",
    "# Load spaCy's English medium model\n",
    "nlp = spacy.load(\"ko_core_news_lg\")"
   ]
  },
  {
   "cell_type": "markdown",
   "id": "5a336e51-25f0-41a7-a08c-5e92cfe142b6",
   "metadata": {},
   "source": [
    "# Dep Tree + Regex + Context Window"
   ]
  },
  {
   "cell_type": "code",
   "execution_count": 4,
   "id": "a7c84d2e-392f-46bb-881f-96e6b2bb3d6d",
   "metadata": {},
   "outputs": [
    {
     "name": "stdout",
     "output_type": "stream",
     "text": [
      "형용사/수식어(Modifiers) 관련 'S24': ['원', '이하']\n",
      "조사/전치사(Adpositions) 관련 'S24': []\n",
      "'S24'가 루트 명사이거나 루트에 연결? True\n"
     ]
    }
   ],
   "source": [
    "# Example sentence (change this to test)\n",
    "sentence = \"1만 원 이하 저렴한 S24\"\n",
    "doc = nlp(sentence)\n",
    "\n",
    "# Target noun/product keyword\n",
    "target = \"S24\"\n",
    "\n",
    "# Storage\n",
    "related_adjs = []\n",
    "related_adps = []\n",
    "is_part_of_root_noun = False\n",
    "\n",
    "# Identify root token\n",
    "root = next((token for token in doc if token.head == token), None)\n",
    "\n",
    "# Helper: check if token matches target robustly\n",
    "def matches_target(token, target):\n",
    "    return (\n",
    "        target.lower() in token.lemma_.lower()\n",
    "        or target.lower() in token.text.lower()\n",
    "    )\n",
    "\n",
    "# Try dependency-based matching first\n",
    "target_tokens = [t for t in doc if matches_target(t, target)]\n",
    "\n",
    "if not target_tokens:\n",
    "    # If no lemma/POS match, try regex surface search\n",
    "    pattern = re.compile(re.escape(target), re.IGNORECASE)\n",
    "    target_tokens = [t for t in doc if pattern.fullmatch(t.text)]\n",
    "\n",
    "for target_token in target_tokens:\n",
    "    # Check if root or attached to root\n",
    "    if target_token == root or target_token.head == root:\n",
    "        is_part_of_root_noun = True\n",
    "\n",
    "    # If POS tagging seems valid (not just X), use dependency\n",
    "    if target_token.pos_ != \"X\":\n",
    "        for child in target_token.children:\n",
    "            if child.pos_ == \"ADJ\":\n",
    "                related_adjs.append(child.text)\n",
    "            if child.pos_ == \"ADP\":\n",
    "                related_adps.append(child.text)\n",
    "    else:\n",
    "        # POS is unreliable -> surface-based scan\n",
    "        idx = target_token.i\n",
    "        for left in doc[max(0, idx-3):idx]:\n",
    "            if left.pos_ in [\"ADJ\", \"NOUN\", \"PROPN\", \"X\"]:\n",
    "                related_adjs.append(left.text)\n",
    "        for right in doc[idx+1:min(len(doc), idx+3)]:\n",
    "            if right.pos_ in [\"ADJ\", \"NOUN\", \"PROPN\", \"X\"]:\n",
    "                related_adjs.append(right.text)\n",
    "\n",
    "# Deduplicate\n",
    "related_adjs = list(set(related_adjs))\n",
    "related_adps = list(set(related_adps))\n",
    "\n",
    "# Results\n",
    "print(f\"형용사/수식어(Modifiers) 관련 '{target}': {related_adjs}\")\n",
    "print(f\"조사/전치사(Adpositions) 관련 '{target}': {related_adps}\")\n",
    "print(f\"'{target}'가 루트 명사이거나 루트에 연결? {is_part_of_root_noun}\")\n",
    "\n",
    "# Optional: visualize dependency tree\n",
    "# displacy.serve(doc, style=\"dep\")\n"
   ]
  },
  {
   "cell_type": "code",
   "execution_count": null,
   "id": "81c43c83-672f-47fc-9f44-b4d5107d069b",
   "metadata": {},
   "outputs": [],
   "source": []
  }
 ],
 "metadata": {
  "kernelspec": {
   "display_name": "Python 3 (ipykernel)",
   "language": "python",
   "name": "python3"
  },
  "language_info": {
   "codemirror_mode": {
    "name": "ipython",
    "version": 3
   },
   "file_extension": ".py",
   "mimetype": "text/x-python",
   "name": "python",
   "nbconvert_exporter": "python",
   "pygments_lexer": "ipython3",
   "version": "3.12.3"
  }
 },
 "nbformat": 4,
 "nbformat_minor": 5
}
