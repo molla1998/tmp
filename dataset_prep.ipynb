{
 "cells": [
  {
   "cell_type": "code",
   "execution_count": 1,
   "id": "e73b2f46-0165-4e3a-8a5f-53abc18341a8",
   "metadata": {},
   "outputs": [],
   "source": [
    "import pandas as pd\n",
    "import random\n",
    "from itertools import product"
   ]
  },
  {
   "cell_type": "code",
   "execution_count": 7,
   "id": "33e5725e-d31e-4d3d-88f1-6ec324e680cf",
   "metadata": {},
   "outputs": [],
   "source": [
    "# Define slot values (you can expand these)\n",
    "BRANDS = [\"Samsung\", \"Apple\", \"OnePlus\", \"Xiaomi\"]\n",
    "PRODUCTS = [\"phone\", \"laptop\", \"tablet\"]\n",
    "ADJS = [\"best\", \"cheap\", \"latest\", \"popular\"]\n",
    "PRICES = [\"20k\", \"30k\", \"50k\", \"1 lakh\"]\n",
    "FEATURES = [\"camera\", \"battery\", \"display\", \"performance\"]\n",
    "CATEGORIES = [\"smartphones\", \"electronics\", \"gadgets\"]\n",
    "PLACES = [\"Delhi\", \"Mumbai\", \"online\"]\n",
    "ADPS = [\"with\", \"having\", \"featuring\"]\n",
    "\n",
    "# 20 query templates\n",
    "TEMPLATES = [\n",
    "    \"show me {adj} {brand} {product} under {price}\",\n",
    "    \"find {brand} {product} with {feature}\",\n",
    "    \"which {category} has {adj} {product} from {brand}\",\n",
    "    \"recommend {adj} {brand} {product} around {price}\",\n",
    "    \"list {brand} {product} available in {place}\",\n",
    "    \"{adj} {product} by {brand} priced below {price}\",\n",
    "    \"compare {brand} {product} with {feature} vs {feature}\",\n",
    "    \"is there a {adj} {product} from {brand} under {price}\",\n",
    "    \"find me {brand} {product} that is {adj} and {adj}\",\n",
    "    \"suggest {product} in {category} with {feature}\",\n",
    "    \"give me {adj} {category} {product} under {price}\",\n",
    "    \"which {brand} offers {adj} {product} in {category}\",\n",
    "    \"where can I buy {brand} {product} with {feature} in {place}\",\n",
    "    \"best {product} from {brand} with {adj} {feature}\",\n",
    "    \"show {brand} {product} that comes {adp} {feature}\",\n",
    "    \"cheap {brand} {product} with {adj} design\",\n",
    "    \"find {product} {adp} {feature} released by {brand}\",\n",
    "    \"are there {adj} {category} from {brand} within {price}\",\n",
    "    \"{brand} {product} supporting {feature} in {price} range\",\n",
    "    \"recommend {product} {adp} {feature} that is {adj}\"\n",
    "]\n",
    "\n",
    "# Function to generate data\n",
    "def generate_queries(n_samples: int, output_file: str = \"queries.csv\"):\n",
    "    data = []\n",
    "\n",
    "    while len(data) < n_samples:\n",
    "        template = random.choice(TEMPLATES)\n",
    "        query = template.format(\n",
    "            brand=random.choice(BRANDS),\n",
    "            product=random.choice(PRODUCTS),\n",
    "            adj=random.choice(ADJS),\n",
    "            price=random.choice(PRICES),\n",
    "            feature=random.choice(FEATURES),\n",
    "            category=random.choice(CATEGORIES),\n",
    "            place=random.choice(PLACES),\n",
    "            adp=random.choice(ADPS)\n",
    "        )\n",
    "        data.append({\"query\": query})\n",
    "\n",
    "    df = pd.DataFrame(data)\n",
    "    df.to_csv(output_file, index=False)\n",
    "    print(f\"✅ Generated {len(df)} queries saved to {output_file}\")\n",
    "\n"
   ]
  },
  {
   "cell_type": "code",
   "execution_count": 9,
   "id": "b8fe7a77-ab80-4558-8dd1-fe71d688fddd",
   "metadata": {},
   "outputs": [
    {
     "name": "stdout",
     "output_type": "stream",
     "text": [
      "✅ Generated 50 queries saved to queries.csv\n"
     ]
    }
   ],
   "source": [
    "# Example usage\n",
    "if __name__ == \"__main__\":\n",
    "    generate_queries(50, \"queries.csv\")"
   ]
  },
  {
   "cell_type": "code",
   "execution_count": null,
   "id": "984f6fa7-e622-4098-963f-b7527ad2afb4",
   "metadata": {},
   "outputs": [],
   "source": []
  }
 ],
 "metadata": {
  "kernelspec": {
   "display_name": "Python 3 (ipykernel)",
   "language": "python",
   "name": "python3"
  },
  "language_info": {
   "codemirror_mode": {
    "name": "ipython",
    "version": 3
   },
   "file_extension": ".py",
   "mimetype": "text/x-python",
   "name": "python",
   "nbconvert_exporter": "python",
   "pygments_lexer": "ipython3",
   "version": "3.12.3"
  }
 },
 "nbformat": 4,
 "nbformat_minor": 5
}
